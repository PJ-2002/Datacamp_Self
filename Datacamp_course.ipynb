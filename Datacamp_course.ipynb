{
 "cells": [
  {
   "cell_type": "code",
   "execution_count": 6,
   "metadata": {},
   "outputs": [
    {
     "name": "stdout",
     "output_type": "stream",
     "text": [
      "0.9990152104759368\n",
      "Prediction : [53176.66154234 70996.19873235] \n",
      "Acutal value: [55261.28 67574.9 ]\n",
      "0.9990152104759368 2944.4331996001238\n",
      "[0.99900913 0.99898729 0.99897163 0.99898887 0.99893043 0.99905966]\n",
      "0.9989911695584723 3.895599514495704e-05\n"
     ]
    },
    {
     "data": {
      "text/plain": [
       "[0.9990152104759369,\n",
       " 0.9990152104759419,\n",
       " 0.9990152104759469,\n",
       " 0.999015210475987,\n",
       " 0.9990152104764387,\n",
       " 0.9990152104809561]"
      ]
     },
     "execution_count": 6,
     "metadata": {},
     "output_type": "execute_result"
    }
   ],
   "source": [
    "from sklearn.linear_model import LinearRegression\n",
    "from sklearn.model_selection import train_test_split\n",
    "from sklearn.model_selection import cross_val_score, KFold\n",
    "from sklearn.linear_model import Ridge\n",
    "import pandas as pd\n",
    "import numpy as np\n",
    "\n",
    "sales_df = pd.read_csv('/Users/praneethjakkala/Downloads/advertising_and_sales_clean.csv')\n",
    "\n",
    "sales_df.head(5)\n",
    "\n",
    "y = sales_df[\"sales\"].values\n",
    "X = sales_df.drop([\"sales\",\"influencer\"], axis = 1).values\n",
    "\n",
    "X_train, X_test, y_train, y_test = train_test_split(X,y,test_size= .3, random_state=42)\n",
    "\n",
    "\n",
    "\n",
    "reg = LinearRegression()\n",
    "reg.fit(X_train,y_train)\n",
    "\n",
    "y_pred = reg.predict(X_test)\n",
    "\n",
    "print(reg.score(X_test,y_test))\n",
    "\n",
    "print(\"Prediction : {} \\nAcutal value: {}\". format(y_pred[:2], y_test[:2] ) )\n",
    "\n",
    "from sklearn.metrics import mean_squared_error\n",
    "\n",
    "r_squared = reg.score(X_test,y_test)\n",
    "\n",
    "reg_mse = mean_squared_error(y_pred,y_test, squared = False)\n",
    "\n",
    "print (r_squared, reg_mse)\n",
    "\n",
    "KF = KFold(n_splits=6, shuffle=True, random_state=42)\n",
    "\n",
    "cross_results = cross_val_score(reg, X,y, cv=KF)\n",
    "\n",
    "print(cross_results)\n",
    "\n",
    "print(np.mean(cross_results), np.std(cross_results))\n",
    "\n",
    "alpha = [0.1,10,20,100,1000,10000]\n",
    "\n",
    "Ridge_score = []\n",
    "\n",
    "for alpha in alpha:\n",
    "    R = Ridge(alpha=alpha)\n",
    "    R.fit(X_train,y_train)\n",
    "    y_pred_ridge = R.predict(X_test)\n",
    "    Ridge_score.append(R.score(X_test,y_test))\n",
    "\n",
    "Ridge_score\n",
    "\n",
    "\n",
    "\n",
    "\n"
   ]
  }
 ],
 "metadata": {
  "kernelspec": {
   "display_name": "kivy_nenv",
   "language": "python",
   "name": "python3"
  },
  "language_info": {
   "codemirror_mode": {
    "name": "ipython",
    "version": 3
   },
   "file_extension": ".py",
   "mimetype": "text/x-python",
   "name": "python",
   "nbconvert_exporter": "python",
   "pygments_lexer": "ipython3",
   "version": "3.11.3"
  },
  "orig_nbformat": 4
 },
 "nbformat": 4,
 "nbformat_minor": 2
}
