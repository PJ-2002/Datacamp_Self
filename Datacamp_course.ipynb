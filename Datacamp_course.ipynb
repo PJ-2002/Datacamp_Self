{
 "cells": [
  {
   "cell_type": "code",
   "execution_count": 31,
   "metadata": {},
   "outputs": [
    {
     "name": "stdout",
     "output_type": "stream",
     "text": [
      "0.9990152104759368\n",
      "Prediction : [53176.66154234 70996.19873235] \n",
      "Acutal value: [55261.28 67574.9 ]\n"
     ]
    }
   ],
   "source": [
    "from sklearn.linear_model import LinearRegression\n",
    "from sklearn.model_selection import train_test_split\n",
    "import pandas as pd\n",
    "\n",
    "sales_df = pd.read_csv('/Users/praneethjakkala/Downloads/advertising_and_sales_clean.csv')\n",
    "\n",
    "sales_df.head(5)\n",
    "\n",
    "y = sales_df[\"sales\"].values\n",
    "X = sales_df.drop([\"sales\",\"influencer\"], axis = 1).values\n",
    "\n",
    "X_train, X_test, y_train, y_test = train_test_split(X,y,test_size= .3, random_state=42)\n",
    "\n",
    "\n",
    "\n",
    "reg = LinearRegression()\n",
    "reg.fit(X_train,y_train)\n",
    "\n",
    "y_pred = reg.predict(X_test)\n",
    "\n",
    "print(reg.score(X_test,y_test))\n",
    "\n",
    "print(\"Prediction : {} \\nAcutal value: {}\". format(y_pred[:2], y_test[:2] ) )"
   ]
  }
 ],
 "metadata": {
  "kernelspec": {
   "display_name": "kivy_nenv",
   "language": "python",
   "name": "python3"
  },
  "language_info": {
   "codemirror_mode": {
    "name": "ipython",
    "version": 3
   },
   "file_extension": ".py",
   "mimetype": "text/x-python",
   "name": "python",
   "nbconvert_exporter": "python",
   "pygments_lexer": "ipython3",
   "version": "3.11.3"
  },
  "orig_nbformat": 4
 },
 "nbformat": 4,
 "nbformat_minor": 2
}
